{
  "nbformat": 4,
  "nbformat_minor": 0,
  "metadata": {
    "colab": {
      "name": "BlockchainCryptography.ipynb",
      "provenance": [],
      "authorship_tag": "ABX9TyPvAVh42afuZ/V/+fhEWI/f",
      "include_colab_link": true
    },
    "kernelspec": {
      "name": "python3",
      "display_name": "Python 3"
    }
  },
  "cells": [
    {
      "cell_type": "markdown",
      "metadata": {
        "id": "view-in-github",
        "colab_type": "text"
      },
      "source": [
        "<a href=\"https://colab.research.google.com/github/jw-ramos/My-Public-Repository/blob/main/BlockchainCryptography.ipynb\" target=\"_parent\"><img src=\"https://colab.research.google.com/assets/colab-badge.svg\" alt=\"Open In Colab\"/></a>"
      ]
    },
    {
      "cell_type": "code",
      "metadata": {
        "id": "WMczxIGGF8_8"
      },
      "source": [
        "from sympy import mod_inverse\n",
        "import hashlib"
      ],
      "execution_count": 18,
      "outputs": []
    },
    {
      "cell_type": "code",
      "metadata": {
        "colab": {
          "base_uri": "https://localhost:8080/",
          "height": 0
        },
        "id": "o90O0czJGt1a",
        "outputId": "24f70eed-2e99-4e93-f922-ff137dd48a39"
      },
      "source": [
        "#Public Keys\n",
        "p=112481050639317229656723018120659623829736571015511322021617837187076258724819\n",
        "q=89185111938335771293328323333111422985697062149139368049232365065924632677343\n",
        "\n",
        "e=65537\n",
        "n=p*q\n",
        "print(n)"
      ],
      "execution_count": 2,
      "outputs": [
        {
          "output_type": "stream",
          "text": [
            "10031635092209121498674987861649022163771061565130441373555584537047455688991931937563110507506652959265182705476941444174840580049331773111276155053075917\n"
          ],
          "name": "stdout"
        }
      ]
    },
    {
      "cell_type": "code",
      "metadata": {
        "colab": {
          "base_uri": "https://localhost:8080/",
          "height": 0
        },
        "id": "eDQhmGzHHWhj",
        "outputId": "7425d192-6f13-4cd8-fb95-777f77ddc5c9"
      },
      "source": [
        "#Private Key\n",
        "d=mod_inverse(e, (p-1)*(q-1))\n",
        "print(d)"
      ],
      "execution_count": 3,
      "outputs": [
        {
          "output_type": "stream",
          "text": [
            "6886694454027199678759881881737814611139109676622117091683160716943132564863007715345245794849719693156483947830169207322284232384798025277322134502462181\n"
          ],
          "name": "stdout"
        }
      ]
    },
    {
      "cell_type": "code",
      "metadata": {
        "colab": {
          "base_uri": "https://localhost:8080/",
          "height": 0
        },
        "id": "IPZLch_JHtBD",
        "outputId": "bb7610c4-dfd8-4d9a-8347-539de4185987"
      },
      "source": [
        "message=\"Running late. Wait for me.\"\n",
        "m=int.from_bytes(message.encode('utf-8'),\"big\")\n",
        "print(m)"
      ],
      "execution_count": 4,
      "outputs": [
        {
          "output_type": "stream",
          "text": [
            "132506048299782729601861890795689101374996562756163152523388206\n"
          ],
          "name": "stdout"
        }
      ]
    },
    {
      "cell_type": "code",
      "metadata": {
        "colab": {
          "base_uri": "https://localhost:8080/",
          "height": 0
        },
        "id": "3VTClJLAIxeg",
        "outputId": "de32096b-cd22-4a6f-83a8-26988f917ee7"
      },
      "source": [
        "#Encrypt message m\n",
        "c=pow(m,e,n)\n",
        "print(c)"
      ],
      "execution_count": 5,
      "outputs": [
        {
          "output_type": "stream",
          "text": [
            "5628730804056595371855684110576266781276706571005479901402626056646581913671537162886477174980769106939051646161443333500500835847610834908579566064478525\n"
          ],
          "name": "stdout"
        }
      ]
    },
    {
      "cell_type": "code",
      "metadata": {
        "colab": {
          "base_uri": "https://localhost:8080/",
          "height": 0
        },
        "id": "PutP_iODJAcR",
        "outputId": "55341009-be29-45b5-c2aa-383d36412a6d"
      },
      "source": [
        "#Part 3: Receive message from friend (m2)\n",
        "m2=9029727923340384868426518880554167882611943065703927838617521515742066859974885947494642963883568408240430125599636824996577080116022919050269017033777667\n",
        "m3=pow(m2,d,n)\n",
        "m3_bytes=m3.to_bytes((m3.bit_length()+7)//8, 'big')\n",
        "message3=m3_bytes.decode()\n",
        "print(message3)"
      ],
      "execution_count": 10,
      "outputs": [
        {
          "output_type": "stream",
          "text": [
            "Congrats! You just decrypted your first message!\n"
          ],
          "name": "stdout"
        }
      ]
    },
    {
      "cell_type": "code",
      "metadata": {
        "colab": {
          "base_uri": "https://localhost:8080/",
          "height": 0
        },
        "id": "1WnNUNziKVcq",
        "outputId": "2795dad6-9801-4484-f21a-e53dfb5db29b"
      },
      "source": [
        "#Part 4: Sign the Message\n",
        "m_hash=hashlib.sha256(b\"Congrats! You just decrypted your first message!\").hexdigest()\n",
        "print(m_hash)"
      ],
      "execution_count": 23,
      "outputs": [
        {
          "output_type": "stream",
          "text": [
            "c98b86cf748ca732199bbafb5bca1ac2db34416b198bf3906c6cf3bb19e2c015\n"
          ],
          "name": "stdout"
        }
      ]
    },
    {
      "cell_type": "code",
      "metadata": {
        "colab": {
          "base_uri": "https://localhost:8080/",
          "height": 0
        },
        "id": "vNebcjEWNo-F",
        "outputId": "c2234bf9-6a67-417c-cc0f-ede2d4d83395"
      },
      "source": [
        "message_sign=int.from_bytes(m_hash.encode('utf-8'), 'big')\n",
        "s=pow(message_sign,d,n)\n",
        "print(s)"
      ],
      "execution_count": 35,
      "outputs": [
        {
          "output_type": "stream",
          "text": [
            "3141272798217254437841732019283821297853765608850884890749159341487650279071377864998607585732045317788354363036712706102305523253064683707241033589893839\n"
          ],
          "name": "stdout"
        }
      ]
    },
    {
      "cell_type": "code",
      "metadata": {
        "colab": {
          "base_uri": "https://localhost:8080/",
          "height": 0
        },
        "id": "K_4ZPs7wN9xs",
        "outputId": "43d32361-b7a7-4e4c-a5c8-03079e73d0a1"
      },
      "source": [
        "v=pow(s,e,n)\n",
        "print(v)"
      ],
      "execution_count": 27,
      "outputs": [
        {
          "output_type": "stream",
          "text": [
            "5196757236952167220763533464276920932199772536270749930947313681585064170024490586392502408018385385327118416752669008082891762309836988228207000058605877\n"
          ],
          "name": "stdout"
        }
      ]
    },
    {
      "cell_type": "code",
      "metadata": {
        "colab": {
          "base_uri": "https://localhost:8080/",
          "height": 0
        },
        "id": "nBdylznOOCE3",
        "outputId": "d38d9114-1db0-4503-f2e0-d4470dd02e66"
      },
      "source": [
        "v_bytes=v.to_bytes((v.bit_length()+7) //8, 'big')\n",
        "message4=v_bytes.decode()\n",
        "print(message4)"
      ],
      "execution_count": 31,
      "outputs": [
        {
          "output_type": "stream",
          "text": [
            "c98b86cf748ca732199bbafb5bca1ac2db34416b198bf3906c6cf3bb19e2c015\n"
          ],
          "name": "stdout"
        }
      ]
    },
    {
      "cell_type": "code",
      "metadata": {
        "id": "IPVi8Cb-Rr-y"
      },
      "source": [
        ""
      ],
      "execution_count": null,
      "outputs": []
    }
  ]
}